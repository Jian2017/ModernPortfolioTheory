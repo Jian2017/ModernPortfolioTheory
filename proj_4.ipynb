{
 "cells": [
  {
   "cell_type": "code",
   "execution_count": 2,
   "metadata": {},
   "outputs": [],
   "source": [
    "import pandas as pd \n",
    "import numpy as np\n",
    "from numpy.linalg import inv\n",
    "import matplotlib.pyplot as plt"
   ]
  },
  {
   "cell_type": "markdown",
   "metadata": {},
   "source": [
    "## program design\n",
    "\n",
    "#### 1) input: CSV table with first coloumn market\n",
    "#### 2) the table (i without negative beta; ii sorted in ratio)\n",
    "#### 3) from the table (the optimal portfolio, with and without short sale allow)"
   ]
  },
  {
   "cell_type": "markdown",
   "metadata": {},
   "source": [
    "##  data preprocessing"
   ]
  },
  {
   "cell_type": "code",
   "execution_count": 3,
   "metadata": {},
   "outputs": [],
   "source": [
    "a=pd.read_csv(\"stockData_proj_1.csv\")\n",
    "filenames = a.columns.tolist()[ 2: ]\n",
    "market_name  = a.columns.tolist()[2 ]\n",
    "stock_names  = a.columns.tolist()[3:]"
   ]
  },
  {
   "cell_type": "code",
   "execution_count": 136,
   "metadata": {},
   "outputs": [
    {
     "name": "stdout",
     "output_type": "stream",
     "text": [
      "['^GSPC', 'KL', 'RGLD', 'AU', 'SSRM', 'SA', 'GOOG', 'AMZN', 'AAPL', 'MSFT', 'INTC', 'SPG', 'CCI', 'PLD', 'PSA', 'EQR', 'EC', 'XOM', 'CVX', 'PTR', 'BP', 'TOT', 'JNJ', 'UNH', 'PFE', 'MRK', 'NVS', 'ABT']\n"
     ]
    }
   ],
   "source": [
    "print(filenames)"
   ]
  },
  {
   "cell_type": "code",
   "execution_count": 5,
   "metadata": {},
   "outputs": [
    {
     "name": "stdout",
     "output_type": "stream",
     "text": [
      "(98,) (98, 27)\n"
     ]
    }
   ],
   "source": [
    "m_price= a[market_name].values\n",
    "s_price = a[stock_names].values\n",
    "#print(m_price.shape, s_price.shape)\n",
    "\n",
    "m_return = (m_price[1:]-m_price[0:-1])/m_price[1:]\n",
    "s_return = (s_price[1:,:]-s_price[0:-1,:])/s_price[1:,:]\n",
    "print(m_return.shape, s_return.shape)\n"
   ]
  },
  {
   "cell_type": "markdown",
   "metadata": {},
   "source": [
    "## data preprocessing finished\n",
    "Now we have   \n",
    "m_return   =   market return 98 weeks  \n",
    "market_name =   a string of the market's name  \n",
    "\n",
    "s_return   =   stocks return 98 weeks x 27 stocks  \n",
    "stock_names =  a list of strings of 27 stocks names  "
   ]
  },
  {
   "cell_type": "code",
   "execution_count": 7,
   "metadata": {},
   "outputs": [
    {
     "data": {
      "text/plain": [
       "(99, 27)"
      ]
     },
     "execution_count": 7,
     "metadata": {},
     "output_type": "execute_result"
    }
   ],
   "source": [
    "s_price.shape"
   ]
  },
  {
   "cell_type": "code",
   "execution_count": 214,
   "metadata": {},
   "outputs": [],
   "source": [
    "def get_market( market_return ):\n",
    "    market_return_mean = np.mean(market_return)\n",
    "    market_sigma_square = np.mean( (market_return -market_return_mean)*(market_return -market_return_mean ) )\n",
    "    return market_return_mean, market_sigma_square\n",
    "market_return_mean, market_sigma_square = get_market(m_return)\n"
   ]
  },
  {
   "cell_type": "code",
   "execution_count": 115,
   "metadata": {},
   "outputs": [],
   "source": [
    "\n",
    "def get_stocks_covarianceMatrix( s_return ):   \n",
    "    stock_covariance = np.cov( np.transpose(s_return) )   \n",
    "    return stock_covariance\n",
    "\n",
    "\n",
    "def get_stocks_mean( s_return ):\n",
    "    return np.mean( s_return , axis = 0 )\n",
    "\n",
    "def plot_stocks( stock_risk , stock_mean_return , stocknamelist ):\n",
    "        \n",
    "    # (1) plot the (risk,return) for all the stocks\n",
    "    xp = stock_risk\n",
    "    yp = stock_mean_return\n",
    "    plt.plot( xp , yp ,'o',color='darkgreen' )\n",
    "    for i in range( len(xp) ):\n",
    "        plt.annotate(  stocknamelist[i], (xp[i]+0.001, yp[i]-0.001) , color='darkgreen'   )\n",
    "    plt.xlabel(\"risk (sigma)\")\n",
    "    plt.ylabel(\"return\")\n",
    "    plt.show()\n",
    "    \n",
    "    \n",
    "\n",
    "    \n",
    "    \n",
    "    \n",
    "def generate_table(stock_names, rho , stock_sigma , stock_return_mean , Rf):\n",
    "    \n",
    "    # (1) generate the first part of the table \n",
    "    dat0 = pd.DataFrame({\"stock name\":stock_names})\n",
    "    dat1 = pd.DataFrame({\"return\": stock_return_mean })\n",
    "    dat2 = pd.DataFrame({\"excess return\": stock_return_mean - Rf })\n",
    "    dat3 = pd.DataFrame({\"sigma\": stock_sigma })\n",
    "    \n",
    "    dat4_ = (stock_return_mean - Rf)/ stock_sigma\n",
    "    dat4 = pd.DataFrame({\"(Ri-Rf)/sigma\": dat4_ })\n",
    "    \n",
    "    dat = dat0.join(dat1).join(dat2).join(dat3).join(dat4)\n",
    "    dat.sort_values(by=[\"(Ri-Rf)/sigma\"] , ascending=False ,inplace = True)\n",
    "    dat.reset_index( drop=True ,inplace = True )\n",
    "\n",
    "    n = len(stock_names)\n",
    "    dat5_ = rho/ ( 1 + rho * ( np.array([i for i in range(1,n+1)]) -1 )  )\n",
    "    dat5 =  pd.DataFrame({\"rho/(1-rho+i*rho)\": dat5_ })\n",
    "    \n",
    "    temp = 0 \n",
    "    dat6_ = np.array( [ np.sum( dat.iloc[:i][\"(Ri-Rf)/sigma\"] ) for i in range(1,n+1) ] )\n",
    "    dat6 =  pd.DataFrame({\"sum[(Ri-Rf)/sigma]\" : dat6_ })\n",
    "    \n",
    "    dat7_ = np.array( [ i[0]*i[1] for i in zip(dat5_,dat6_)])\n",
    "    dat7 =  pd.DataFrame({\"Ci\" : dat7_ })\n",
    "\n",
    "    dat = dat.join(dat5).join(dat6).join(dat7)\n",
    "\n",
    "\n",
    "    return dat\n",
    "\n",
    "### get the portfolio Xi  with and without short sale\n",
    "### (1) the order of the Xi index should be consistent with the name list  stock_names[:]\n",
    "###  before deleting negative beta and sorting\n",
    "def short_sale_okay( table , stock_names ):\n",
    "    ntable = len( table[\"Ci\"] )\n",
    "    Cstar  = table[\"Ci\"][ntable-1]\n",
    "    z = (table[\"(Ri-Rf)/sigma\"] - Cstar)/table[\"sigma\"]\n",
    "    x = z / np.sum(z)\n",
    "    \n",
    "    n = len( stock_names )\n",
    "    x_original_ordered = [ 0 ] * n \n",
    "    \n",
    "    for i in range( ntable ):\n",
    "        name = table[\"stock name\"][i]\n",
    "        value = x[i]\n",
    "        \n",
    "        j = 0\n",
    "        for s in stock_names:\n",
    "            if name == s:\n",
    "                x_original_ordered[j] = value\n",
    "            j = j + 1\n",
    "        \n",
    "    return np.array( x_original_ordered )\n",
    "\n",
    "# traditional method;   negative beta are not deleted\n",
    "def short_sale_okay2( stock_covariance , stock_mean_return , Rf ):\n",
    "    z = np.matmul ( inv(stock_covariance) , ( stock_mean_return - Rf ) )\n",
    "    x = z / np.sum(z)\n",
    "    return np.array( x )\n",
    "\n",
    "def short_sale_Not_okay( table , stock_names ):\n",
    "    \n",
    "    # (1) find the Cstar\n",
    "    ntable = len( table[\"Ci\"] )\n",
    "    \n",
    "    n_buy_stock = 0 \n",
    "    for i in range( ntable ):\n",
    "        if table[\"(Ri-Rf)/sigma\"][i] <  table[\"Ci\"][i]:\n",
    "            break\n",
    "        Cstar = table[\"Ci\"][i]\n",
    "        n_buy_stock = n_buy_stock + 1\n",
    "    \n",
    "    z = (table[\"(Ri-Rf)/sigma\"][:n_buy_stock] - Cstar) /table[\"sigma\"][:n_buy_stock]\n",
    "    x = z / np.sum(z)\n",
    "    \n",
    "    n = len( stock_names )\n",
    "    x_original_ordered = [ 0 ] * n \n",
    "    \n",
    "    for i in range( n_buy_stock ):\n",
    "        name = table[\"stock name\"][i]\n",
    "        value = x[i]\n",
    "        j = 0\n",
    "        for s in stock_names:\n",
    "            if name == s:\n",
    "                x_original_ordered[j] = value\n",
    "            j = j + 1\n",
    "        \n",
    "    return np.array( x_original_ordered )\n",
    "\n",
    "\n",
    "def risk_return(stock_covariance  , stock_mean_return , x):\n",
    "    risk = np.sqrt(    np.matmul(  x ,  np.matmul(  stock_covariance  , x )  ) )\n",
    "    retur = np.sum(  x * stock_mean_return  )\n",
    "    \n",
    "    return risk, retur"
   ]
  },
  {
   "cell_type": "code",
   "execution_count": 14,
   "metadata": {},
   "outputs": [],
   "source": [
    "stock_covariance = get_stocks_covarianceMatrix( s_return )\n",
    "stock_mean_return = get_stocks_mean( s_return )"
   ]
  },
  {
   "cell_type": "code",
   "execution_count": 30,
   "metadata": {},
   "outputs": [
    {
     "data": {
      "image/png": "[encoded data removed]",
      "text/plain": [
       "<Figure size 432x288 with 2 Axes>"
      ]
     },
     "metadata": {
      "needs_background": "light"
     },
     "output_type": "display_data"
    }
   ],
   "source": [
    "plt.imshow( stock_covariance   )\n",
    "plt.title(\"variance co-variance matrix\")\n",
    "plt.colorbar()\n",
    "plt.show()"
   ]
  },
  {
   "cell_type": "markdown",
   "metadata": {},
   "source": [
    "# (a). The table"
   ]
  },
  {
   "cell_type": "code",
   "execution_count": 91,
   "metadata": {},
   "outputs": [
    {
     "data": {
      "text/html": [
       "<div>\n",
       "<style scoped>\n",
       "    .dataframe tbody tr th:only-of-type {\n",
       "        vertical-align: middle;\n",
       "    }\n",
       "\n",
       "    .dataframe tbody tr th {\n",
       "        vertical-align: top;\n",
       "    }\n",
       "\n",
       "    .dataframe thead th {\n",
       "        text-align: right;\n",
       "    }\n",
       "</style>\n",
       "<table border=\"1\" class=\"dataframe\">\n",
       "  <thead>\n",
       "    <tr style=\"text-align: right;\">\n",
       "      <th></th>\n",
       "      <th>stock name</th>\n",
       "      <th>return</th>\n",
       "      <th>excess return</th>\n",
       "      <th>sigma</th>\n",
       "      <th>(Ri-Rf)/sigma</th>\n",
       "      <th>rho/(1-rho+i*rho)</th>\n",
       "      <th>sum[(Ri-Rf)/sigma]</th>\n",
       "      <th>Ci</th>\n",
       "    </tr>\n",
       "  </thead>\n",
       "  <tbody>\n",
       "    <tr>\n",
       "      <th>0</th>\n",
       "      <td>UNH</td>\n",
       "      <td>0.018214</td>\n",
       "      <td>0.016214</td>\n",
       "      <td>0.049399</td>\n",
       "      <td>0.328228</td>\n",
       "      <td>0.215697</td>\n",
       "      <td>0.328228</td>\n",
       "      <td>0.070798</td>\n",
       "    </tr>\n",
       "    <tr>\n",
       "      <th>1</th>\n",
       "      <td>ABT</td>\n",
       "      <td>0.014734</td>\n",
       "      <td>0.012734</td>\n",
       "      <td>0.050781</td>\n",
       "      <td>0.250761</td>\n",
       "      <td>0.177427</td>\n",
       "      <td>0.578990</td>\n",
       "      <td>0.102728</td>\n",
       "    </tr>\n",
       "    <tr>\n",
       "      <th>2</th>\n",
       "      <td>AMZN</td>\n",
       "      <td>0.020703</td>\n",
       "      <td>0.018703</td>\n",
       "      <td>0.077647</td>\n",
       "      <td>0.240871</td>\n",
       "      <td>0.150690</td>\n",
       "      <td>0.819860</td>\n",
       "      <td>0.123545</td>\n",
       "    </tr>\n",
       "    <tr>\n",
       "      <th>3</th>\n",
       "      <td>MSFT</td>\n",
       "      <td>0.015186</td>\n",
       "      <td>0.013186</td>\n",
       "      <td>0.055915</td>\n",
       "      <td>0.235819</td>\n",
       "      <td>0.130956</td>\n",
       "      <td>1.055680</td>\n",
       "      <td>0.138248</td>\n",
       "    </tr>\n",
       "    <tr>\n",
       "      <th>4</th>\n",
       "      <td>CCI</td>\n",
       "      <td>0.012159</td>\n",
       "      <td>0.010159</td>\n",
       "      <td>0.043677</td>\n",
       "      <td>0.232593</td>\n",
       "      <td>0.115793</td>\n",
       "      <td>1.288273</td>\n",
       "      <td>0.149173</td>\n",
       "    </tr>\n",
       "    <tr>\n",
       "      <th>5</th>\n",
       "      <td>JNJ</td>\n",
       "      <td>0.010368</td>\n",
       "      <td>0.008368</td>\n",
       "      <td>0.038727</td>\n",
       "      <td>0.216082</td>\n",
       "      <td>0.103776</td>\n",
       "      <td>1.504355</td>\n",
       "      <td>0.156116</td>\n",
       "    </tr>\n",
       "    <tr>\n",
       "      <th>6</th>\n",
       "      <td>PFE</td>\n",
       "      <td>0.010731</td>\n",
       "      <td>0.008731</td>\n",
       "      <td>0.042189</td>\n",
       "      <td>0.206943</td>\n",
       "      <td>0.094019</td>\n",
       "      <td>1.711298</td>\n",
       "      <td>0.160895</td>\n",
       "    </tr>\n",
       "    <tr>\n",
       "      <th>7</th>\n",
       "      <td>MRK</td>\n",
       "      <td>0.011017</td>\n",
       "      <td>0.009017</td>\n",
       "      <td>0.047945</td>\n",
       "      <td>0.188070</td>\n",
       "      <td>0.085939</td>\n",
       "      <td>1.899369</td>\n",
       "      <td>0.163230</td>\n",
       "    </tr>\n",
       "    <tr>\n",
       "      <th>8</th>\n",
       "      <td>AAPL</td>\n",
       "      <td>0.015354</td>\n",
       "      <td>0.013354</td>\n",
       "      <td>0.072155</td>\n",
       "      <td>0.185072</td>\n",
       "      <td>0.079138</td>\n",
       "      <td>2.084440</td>\n",
       "      <td>0.164959</td>\n",
       "    </tr>\n",
       "    <tr>\n",
       "      <th>9</th>\n",
       "      <td>GOOG</td>\n",
       "      <td>0.012055</td>\n",
       "      <td>0.010055</td>\n",
       "      <td>0.059972</td>\n",
       "      <td>0.167665</td>\n",
       "      <td>0.073335</td>\n",
       "      <td>2.252105</td>\n",
       "      <td>0.165157</td>\n",
       "    </tr>\n",
       "    <tr>\n",
       "      <th>10</th>\n",
       "      <td>INTC</td>\n",
       "      <td>0.010155</td>\n",
       "      <td>0.008155</td>\n",
       "      <td>0.059786</td>\n",
       "      <td>0.136410</td>\n",
       "      <td>0.068324</td>\n",
       "      <td>2.388516</td>\n",
       "      <td>0.163193</td>\n",
       "    </tr>\n",
       "    <tr>\n",
       "      <th>11</th>\n",
       "      <td>PSA</td>\n",
       "      <td>0.008539</td>\n",
       "      <td>0.006539</td>\n",
       "      <td>0.049339</td>\n",
       "      <td>0.132528</td>\n",
       "      <td>0.063954</td>\n",
       "      <td>2.521044</td>\n",
       "      <td>0.161232</td>\n",
       "    </tr>\n",
       "    <tr>\n",
       "      <th>12</th>\n",
       "      <td>SPG</td>\n",
       "      <td>0.008250</td>\n",
       "      <td>0.006250</td>\n",
       "      <td>0.050449</td>\n",
       "      <td>0.123877</td>\n",
       "      <td>0.060110</td>\n",
       "      <td>2.644921</td>\n",
       "      <td>0.158987</td>\n",
       "    </tr>\n",
       "    <tr>\n",
       "      <th>13</th>\n",
       "      <td>NVS</td>\n",
       "      <td>0.007318</td>\n",
       "      <td>0.005318</td>\n",
       "      <td>0.049482</td>\n",
       "      <td>0.107466</td>\n",
       "      <td>0.056702</td>\n",
       "      <td>2.752386</td>\n",
       "      <td>0.156065</td>\n",
       "    </tr>\n",
       "    <tr>\n",
       "      <th>14</th>\n",
       "      <td>PLD</td>\n",
       "      <td>0.008331</td>\n",
       "      <td>0.006331</td>\n",
       "      <td>0.065810</td>\n",
       "      <td>0.096201</td>\n",
       "      <td>0.053659</td>\n",
       "      <td>2.848587</td>\n",
       "      <td>0.152853</td>\n",
       "    </tr>\n",
       "    <tr>\n",
       "      <th>15</th>\n",
       "      <td>EQR</td>\n",
       "      <td>0.005901</td>\n",
       "      <td>0.003901</td>\n",
       "      <td>0.047872</td>\n",
       "      <td>0.081481</td>\n",
       "      <td>0.050927</td>\n",
       "      <td>2.930068</td>\n",
       "      <td>0.149218</td>\n",
       "    </tr>\n",
       "    <tr>\n",
       "      <th>16</th>\n",
       "      <td>CVX</td>\n",
       "      <td>0.004304</td>\n",
       "      <td>0.002304</td>\n",
       "      <td>0.054340</td>\n",
       "      <td>0.042392</td>\n",
       "      <td>0.048459</td>\n",
       "      <td>2.972459</td>\n",
       "      <td>0.144042</td>\n",
       "    </tr>\n",
       "    <tr>\n",
       "      <th>17</th>\n",
       "      <td>TOT</td>\n",
       "      <td>0.002259</td>\n",
       "      <td>0.000259</td>\n",
       "      <td>0.058844</td>\n",
       "      <td>0.004404</td>\n",
       "      <td>0.046219</td>\n",
       "      <td>2.976863</td>\n",
       "      <td>0.137588</td>\n",
       "    </tr>\n",
       "    <tr>\n",
       "      <th>18</th>\n",
       "      <td>BP</td>\n",
       "      <td>0.001672</td>\n",
       "      <td>-0.000328</td>\n",
       "      <td>0.065739</td>\n",
       "      <td>-0.004992</td>\n",
       "      <td>0.044177</td>\n",
       "      <td>2.971871</td>\n",
       "      <td>0.131289</td>\n",
       "    </tr>\n",
       "    <tr>\n",
       "      <th>19</th>\n",
       "      <td>XOM</td>\n",
       "      <td>0.001558</td>\n",
       "      <td>-0.000442</td>\n",
       "      <td>0.047861</td>\n",
       "      <td>-0.009230</td>\n",
       "      <td>0.042308</td>\n",
       "      <td>2.962642</td>\n",
       "      <td>0.125344</td>\n",
       "    </tr>\n",
       "    <tr>\n",
       "      <th>20</th>\n",
       "      <td>RGLD</td>\n",
       "      <td>0.000423</td>\n",
       "      <td>-0.001577</td>\n",
       "      <td>0.122612</td>\n",
       "      <td>-0.012862</td>\n",
       "      <td>0.040591</td>\n",
       "      <td>2.949779</td>\n",
       "      <td>0.119734</td>\n",
       "    </tr>\n",
       "    <tr>\n",
       "      <th>21</th>\n",
       "      <td>KL</td>\n",
       "      <td>-0.009305</td>\n",
       "      <td>-0.011305</td>\n",
       "      <td>0.190869</td>\n",
       "      <td>-0.059231</td>\n",
       "      <td>0.039007</td>\n",
       "      <td>2.890548</td>\n",
       "      <td>0.112753</td>\n",
       "    </tr>\n",
       "    <tr>\n",
       "      <th>22</th>\n",
       "      <td>EC</td>\n",
       "      <td>-0.008578</td>\n",
       "      <td>-0.010578</td>\n",
       "      <td>0.099201</td>\n",
       "      <td>-0.106628</td>\n",
       "      <td>0.037543</td>\n",
       "      <td>2.783920</td>\n",
       "      <td>0.104517</td>\n",
       "    </tr>\n",
       "    <tr>\n",
       "      <th>23</th>\n",
       "      <td>SSRM</td>\n",
       "      <td>-0.020546</td>\n",
       "      <td>-0.022546</td>\n",
       "      <td>0.176928</td>\n",
       "      <td>-0.127431</td>\n",
       "      <td>0.036185</td>\n",
       "      <td>2.656489</td>\n",
       "      <td>0.096124</td>\n",
       "    </tr>\n",
       "    <tr>\n",
       "      <th>24</th>\n",
       "      <td>PTR</td>\n",
       "      <td>-0.008023</td>\n",
       "      <td>-0.010023</td>\n",
       "      <td>0.075661</td>\n",
       "      <td>-0.132476</td>\n",
       "      <td>0.034921</td>\n",
       "      <td>2.524013</td>\n",
       "      <td>0.088141</td>\n",
       "    </tr>\n",
       "    <tr>\n",
       "      <th>25</th>\n",
       "      <td>SA</td>\n",
       "      <td>-0.022777</td>\n",
       "      <td>-0.024777</td>\n",
       "      <td>0.174535</td>\n",
       "      <td>-0.141961</td>\n",
       "      <td>0.033743</td>\n",
       "      <td>2.382052</td>\n",
       "      <td>0.080377</td>\n",
       "    </tr>\n",
       "    <tr>\n",
       "      <th>26</th>\n",
       "      <td>AU</td>\n",
       "      <td>-0.022683</td>\n",
       "      <td>-0.024683</td>\n",
       "      <td>0.151252</td>\n",
       "      <td>-0.163192</td>\n",
       "      <td>0.032641</td>\n",
       "      <td>2.218860</td>\n",
       "      <td>0.072426</td>\n",
       "    </tr>\n",
       "  </tbody>\n",
       "</table>\n",
       "</div>"
      ],
      "text/plain": [
       "   stock name    return  excess return     sigma  (Ri-Rf)/sigma  \\\n",
       "0         UNH  0.018214       0.016214  0.049399       0.328228   \n",
       "1         ABT  0.014734       0.012734  0.050781       0.250761   \n",
       "2        AMZN  0.020703       0.018703  0.077647       0.240871   \n",
       "3        MSFT  0.015186       0.013186  0.055915       0.235819   \n",
       "4         CCI  0.012159       0.010159  0.043677       0.232593   \n",
       "5         JNJ  0.010368       0.008368  0.038727       0.216082   \n",
       "6         PFE  0.010731       0.008731  0.042189       0.206943   \n",
       "7         MRK  0.011017       0.009017  0.047945       0.188070   \n",
       "8        AAPL  0.015354       0.013354  0.072155       0.185072   \n",
       "9        GOOG  0.012055       0.010055  0.059972       0.167665   \n",
       "10       INTC  0.010155       0.008155  0.059786       0.136410   \n",
       "11        PSA  0.008539       0.006539  0.049339       0.132528   \n",
       "12        SPG  0.008250       0.006250  0.050449       0.123877   \n",
       "13        NVS  0.007318       0.005318  0.049482       0.107466   \n",
       "14        PLD  0.008331       0.006331  0.065810       0.096201   \n",
       "15        EQR  0.005901       0.003901  0.047872       0.081481   \n",
       "16        CVX  0.004304       0.002304  0.054340       0.042392   \n",
       "17        TOT  0.002259       0.000259  0.058844       0.004404   \n",
       "18         BP  0.001672      -0.000328  0.065739      -0.004992   \n",
       "19        XOM  0.001558      -0.000442  0.047861      -0.009230   \n",
       "20       RGLD  0.000423      -0.001577  0.122612      -0.012862   \n",
       "21         KL -0.009305      -0.011305  0.190869      -0.059231   \n",
       "22         EC -0.008578      -0.010578  0.099201      -0.106628   \n",
       "23       SSRM -0.020546      -0.022546  0.176928      -0.127431   \n",
       "24        PTR -0.008023      -0.010023  0.075661      -0.132476   \n",
       "25         SA -0.022777      -0.024777  0.174535      -0.141961   \n",
       "26         AU -0.022683      -0.024683  0.151252      -0.163192   \n",
       "\n",
       "    rho/(1-rho+i*rho)  sum[(Ri-Rf)/sigma]        Ci  \n",
       "0            0.215697            0.328228  0.070798  \n",
       "1            0.177427            0.578990  0.102728  \n",
       "2            0.150690            0.819860  0.123545  \n",
       "3            0.130956            1.055680  0.138248  \n",
       "4            0.115793            1.288273  0.149173  \n",
       "5            0.103776            1.504355  0.156116  \n",
       "6            0.094019            1.711298  0.160895  \n",
       "7            0.085939            1.899369  0.163230  \n",
       "8            0.079138            2.084440  0.164959  \n",
       "9            0.073335            2.252105  0.165157  \n",
       "10           0.068324            2.388516  0.163193  \n",
       "11           0.063954            2.521044  0.161232  \n",
       "12           0.060110            2.644921  0.158987  \n",
       "13           0.056702            2.752386  0.156065  \n",
       "14           0.053659            2.848587  0.152853  \n",
       "15           0.050927            2.930068  0.149218  \n",
       "16           0.048459            2.972459  0.144042  \n",
       "17           0.046219            2.976863  0.137588  \n",
       "18           0.044177            2.971871  0.131289  \n",
       "19           0.042308            2.962642  0.125344  \n",
       "20           0.040591            2.949779  0.119734  \n",
       "21           0.039007            2.890548  0.112753  \n",
       "22           0.037543            2.783920  0.104517  \n",
       "23           0.036185            2.656489  0.096124  \n",
       "24           0.034921            2.524013  0.088141  \n",
       "25           0.033743            2.382052  0.080377  \n",
       "26           0.032641            2.218860  0.072426  "
      ]
     },
     "execution_count": 91,
     "metadata": {},
     "output_type": "execute_result"
    }
   ],
   "source": [
    "table"
   ]
  },
  {
   "cell_type": "code",
   "execution_count": 28,
   "metadata": {},
   "outputs": [
    {
     "data": {
      "image/png": "[encoded data removed]",
      "text/plain": [
       "<Figure size 432x288 with 1 Axes>"
      ]
     },
     "metadata": {
      "needs_background": "light"
     },
     "output_type": "display_data"
    }
   ],
   "source": [
    "plot_stocks( np.sqrt(stock_covariance.diagonal() ), stock_mean_return,  stock_names )"
   ]
  },
  {
   "cell_type": "code",
   "execution_count": 35,
   "metadata": {},
   "outputs": [],
   "source": [
    "def constant_correlation_model( stock_covariance ):\n",
    "    n = stock_covariance.shape[0]\n",
    "    stock_covariance_diag = np.diag( stock_covariance )\n",
    "    out = 0 \n",
    "    for i in range(n):\n",
    "        for j in range(n):\n",
    "            if i != j :\n",
    "                temp = stock_covariance[i,j]/ np.sqrt( stock_covariance_diag[i] * stock_covariance_diag[j] )\n",
    "                out = out + temp\n",
    "    out = out / n / (n-1)\n",
    "    return out"
   ]
  },
  {
   "cell_type": "code",
   "execution_count": 57,
   "metadata": {},
   "outputs": [
    {
     "name": "stdout",
     "output_type": "stream",
     "text": [
      "0.215697232711\n"
     ]
    }
   ],
   "source": [
    "rho = constant_correlation_model( stock_covariance )\n",
    "print(rho)"
   ]
  },
  {
   "cell_type": "code",
   "execution_count": 65,
   "metadata": {},
   "outputs": [],
   "source": [
    "Rf = 0.002\n",
    "stock_sigma= np.sqrt( np.diag(stock_covariance))\n",
    "table = generate_table(stock_names, rho , stock_sigma , stock_mean_return , Rf)\n"
   ]
  },
  {
   "cell_type": "markdown",
   "metadata": {},
   "source": [
    "# (b). Find the optimal portfolio"
   ]
  },
  {
   "cell_type": "code",
   "execution_count": 133,
   "metadata": {},
   "outputs": [],
   "source": [
    "plt.rcParams['figure.figsize'] = [8, 8]\n"
   ]
  },
  {
   "cell_type": "code",
   "execution_count": 95,
   "metadata": {},
   "outputs": [],
   "source": [
    "x_short = short_sale_okay( table , stock_names )\n",
    "x_no_short = short_sale_Not_okay( table , stock_names )\n",
    "with_risk, with_return = risk_return(stock_covariance  , stock_mean_return , x_short )\n",
    "without_risk, without_return = risk_return(stock_covariance  , stock_mean_return , x_no_short )"
   ]
  },
  {
   "cell_type": "code",
   "execution_count": 215,
   "metadata": {},
   "outputs": [],
   "source": [
    "\n",
    "def plot_stocks_with_without(stock_covariance , stock_mean_return , Rf , stocknamelist , with_risk, with_return, without_risk, without_return ):\n",
    "        \n",
    "    # (1) plot the (risk,return) for all the stocks\n",
    "    stock_risk = np.sqrt( np.diag(stock_covariance) )\n",
    "    xp = stock_risk\n",
    "    yp = stock_mean_return\n",
    "    plt.plot( xp , yp ,'o',color='darkgreen' )\n",
    "    for i in range( len(xp) ):\n",
    "        plt.annotate(  stocknamelist[i], (xp[i]+0.001, yp[i]-0.001) , color='darkgreen'   )\n",
    "        \n",
    "    plt.plot(  with_risk, with_return , '*' , color='red' )\n",
    "    plt.annotate(  \"with short sale (constant rho model)\", (with_risk+0.001, with_return-0.001) , color='red'   )\n",
    "    plt.plot(  without_risk, without_return , 'v', color='blue' )\n",
    "    plt.annotate(  \"no short sale (constant rho model)\", (without_risk+0.001, without_return-0.001) , color='blue'   )\n",
    "    \n",
    "    \n",
    "    plt.plot(  np.sqrt(market_sigma_square), market_return_mean , 'o', color='purple' )\n",
    "    plt.annotate(  \"market\", (np.sqrt(market_sigma_square)+0.001, market_return_mean-0.001) , color='purple'   )\n",
    "    \n",
    "    # TANGENT POINT\n",
    "    p0 =  short_sale_okay2( stock_covariance , stock_mean_return , Rf )\n",
    "    # MIN RISK POINT\n",
    "    N = len(stocknamelist)\n",
    "    allone=np.array( [1]*N )  # 1_vector\n",
    "    matrix_inv = inv( stock_covariance )\n",
    "    p1 = np.matmul( matrix_inv , allone )/ np.matmul( allone, np.matmul( matrix_inv , allone )   )\n",
    "    # CURVE\n",
    "    lams = np.linspace( -1.5 , 2.5 ,100)\n",
    "    x_boundary = []\n",
    "    y_boundary = []\n",
    "    for lam in lams:\n",
    "        x = lam*p0 + (1-lam)*p1\n",
    "        temp1 , temp2 = risk_return(stock_covariance  , stock_mean_return , x)\n",
    "        x_boundary.append( temp1 )\n",
    "        y_boundary.append( temp2 )\n",
    "\n",
    "    plt.plot( x_boundary, y_boundary, '--', color='purple')\n",
    "    plt.xlabel(\"risk (sigma)\")\n",
    "    plt.ylabel(\"return\")\n",
    "    plt.show()"
   ]
  },
  {
   "cell_type": "code",
   "execution_count": 216,
   "metadata": {},
   "outputs": [
    {
     "data": {
      "image/png": "[encoded data removed]",
      "text/plain": [
       "<Figure size 504x504 with 1 Axes>"
      ]
     },
     "metadata": {
      "needs_background": "light"
     },
     "output_type": "display_data"
    }
   ],
   "source": [
    "#plot_stocks(np.sqrt(stock_covariance.diagonal() ) , stock_return_mean, stock_names  )\n",
    "plot_stocks_with_without(  stock_covariance , stock_mean_return , 0.002 ,  stock_names , with_risk, with_return, without_risk, without_return )\n",
    "\n"
   ]
  },
  {
   "cell_type": "markdown",
   "metadata": {},
   "source": [
    "# (c). Multi-Group model\n",
    "\n",
    "The step here is to construct the new covariant matrix by averaging over groups.\n",
    "\n",
    "The numbers of stocks in 5 groups are [5,5,5,6,6]"
   ]
  },
  {
   "cell_type": "code",
   "execution_count": 194,
   "metadata": {},
   "outputs": [],
   "source": [
    "plt.rcParams['figure.figsize'] = [5, 5]\n",
    "\n",
    "def constant_correlation_model_multiGroup( stock_covariance , grouping ):\n",
    "    # convert stock_covariance to multiGroup's covariance\n",
    "    \n",
    "    n = stock_covariance.shape[0]\n",
    "    \n",
    "    rho = [ [0]*n for _ in range(n) ]\n",
    "    for i in range(n):\n",
    "        for j in range(n):\n",
    "            if i != j :\n",
    "                rho[i][j] = stock_covariance[i,j]/ np.sqrt( stock_covariance[i,i] * stock_covariance[j,j] )\n",
    "            else:\n",
    "                rho[i][j] = 0\n",
    "                \n",
    "\n",
    "                \n",
    "    rho = np.array(rho)\n",
    "    plt.imshow( rho   )\n",
    "    plt.title(\"original rho\")\n",
    "    plt.colorbar()\n",
    "    plt.show()\n",
    "    \n",
    "    isum = 0 \n",
    "    for i in grouping:\n",
    "        jsum = 0\n",
    "        for j in grouping:\n",
    "            #print(isum,isum + i)\n",
    "            #print(jsum,jsum + j)\n",
    "            #print(\"****\")\n",
    "            if isum != jsum:\n",
    "                temp =  rho[isum:isum+i,jsum:jsum+j].mean() \n",
    "                rho[isum:isum+i,jsum:jsum+j] = temp\n",
    "            else:\n",
    "                temp = rho[isum:isum+i,jsum:jsum+j].sum() / (i*i - i)\n",
    "                rho[isum:isum+i,jsum:jsum+j] = temp\n",
    "\n",
    "                \n",
    "            jsum = jsum + j\n",
    "        isum = isum + i\n",
    "    \n",
    "    rho = np.array(rho)\n",
    "    plt.imshow( rho   )\n",
    "    plt.title(\"new rho\")\n",
    "    plt.colorbar()\n",
    "    plt.show()\n",
    "    \n",
    "    \n",
    "    new_covariance = [ [0]*n for _ in range(n) ]\n",
    "    for i in range(n):\n",
    "        for j in range(n):\n",
    "            if i != j :\n",
    "                new_covariance[i][j] = rho[i,j] * np.sqrt( stock_covariance[i,i] * stock_covariance[j,j] )\n",
    "            else:\n",
    "                new_covariance[i][j] = stock_covariance[i,j]\n",
    "\n",
    "                \n",
    "    new_covariance = np.array(new_covariance)\n",
    "    plt.imshow( new_covariance   )\n",
    "    plt.title(\"new covariance\")\n",
    "    plt.colorbar()\n",
    "    plt.show()    \n",
    "\n",
    "    \n",
    "    return new_covariance"
   ]
  },
  {
   "cell_type": "code",
   "execution_count": 195,
   "metadata": {},
   "outputs": [
    {
     "data": {
      "image/png": "[encoded data removed]",
      "text/plain": [
       "<Figure size 360x360 with 2 Axes>"
      ]
     },
     "metadata": {
      "needs_background": "light"
     },
     "output_type": "display_data"
    },
    {
     "data": {
      "image/png": "[encoded data removed]",
      "text/plain": [
       "<Figure size 360x360 with 2 Axes>"
      ]
     },
     "metadata": {
      "needs_background": "light"
     },
     "output_type": "display_data"
    },
    {
     "data": {
      "image/png": "[encoded data removed]",
      "text/plain": [
       "<Figure size 360x360 with 2 Axes>"
      ]
     },
     "metadata": {
      "needs_background": "light"
     },
     "output_type": "display_data"
    }
   ],
   "source": [
    "\n",
    "new_covariance = constant_correlation_model_multiGroup( stock_covariance , [5,5,5,6,6] )\n"
   ]
  },
  {
   "cell_type": "markdown",
   "metadata": {},
   "source": [
    "### compare to the original covaraince matrix below"
   ]
  },
  {
   "cell_type": "code",
   "execution_count": 196,
   "metadata": {},
   "outputs": [
    {
     "data": {
      "image/png": "[encoded data removed]",
      "text/plain": [
       "<Figure size 360x360 with 2 Axes>"
      ]
     },
     "metadata": {
      "needs_background": "light"
     },
     "output_type": "display_data"
    }
   ],
   "source": [
    "plt.imshow( stock_covariance   )\n",
    "plt.title(\"original covariance\")\n",
    "plt.colorbar()\n",
    "plt.show()"
   ]
  },
  {
   "cell_type": "code",
   "execution_count": 218,
   "metadata": {},
   "outputs": [
    {
     "data": {
      "image/png": "[encoded data removed]",
      "text/plain": [
       "<Figure size 504x504 with 1 Axes>"
      ]
     },
     "metadata": {
      "needs_background": "light"
     },
     "output_type": "display_data"
    }
   ],
   "source": [
    "p3 =  short_sale_okay2( new_covariance , stock_mean_return , Rf )\n",
    "x3, y3 = risk_return(stock_covariance  , stock_mean_return , p3 )\n",
    "plot_stocks_with_without_p3(  stock_covariance , stock_mean_return , 0.002 ,  stock_names , with_risk, with_return, without_risk, without_return , x3 , y3 )\n"
   ]
  },
  {
   "cell_type": "code",
   "execution_count": 217,
   "metadata": {},
   "outputs": [],
   "source": [
    "plt.rcParams['figure.figsize'] = [7, 7]\n",
    "\n",
    "def plot_stocks_with_without_p3(stock_covariance , stock_mean_return , Rf , stocknamelist , with_risk, with_return, without_risk, without_return ,x3, y3 ):\n",
    "        \n",
    "    # (1) plot the (risk,return) for all the stocks\n",
    "    stock_risk = np.sqrt( np.diag(stock_covariance) )\n",
    "    xp = stock_risk\n",
    "    yp = stock_mean_return\n",
    "    plt.plot( xp , yp ,'o',color='darkgreen' )\n",
    "    for i in range( len(xp) ):\n",
    "        plt.annotate(  stocknamelist[i], (xp[i]+0.001, yp[i]-0.001) , color='darkgreen'   )\n",
    "        \n",
    "    plt.plot(  with_risk, with_return , '*' , color='red' )\n",
    "    plt.annotate(  \"with short sale (constant rho model)\", (with_risk+0.002, with_return-0.001) , color='red'   )\n",
    "    plt.plot(  without_risk, without_return , 'v', color='blue' )\n",
    "    plt.annotate(  \"no short sale (constant rho model)\", (without_risk+0.001, without_return-0.001) , color='blue'   )\n",
    "    plt.plot(  x3, y3 , '^', color='orange' )\n",
    "    plt.annotate(  \"with short sale (multi-group constant rho model)\", (x3+0.001, y3+0.002) , color='orange'   )\n",
    "    \n",
    "    plt.plot(  np.sqrt(market_sigma_square), market_return_mean , 'o', color='purple' )\n",
    "    plt.annotate(  \"market\", (np.sqrt(market_sigma_square)+0.001, market_return_mean-0.001) , color='purple'   )\n",
    "    \n",
    "    # TANGENT POINT\n",
    "    p0 =  short_sale_okay2( stock_covariance , stock_mean_return , Rf )\n",
    "    # MIN RISK POINT\n",
    "    N = len(stocknamelist)\n",
    "    allone=np.array( [1]*N )  # 1_vector\n",
    "    matrix_inv = inv( stock_covariance )\n",
    "    p1 = np.matmul( matrix_inv , allone )/ np.matmul( allone, np.matmul( matrix_inv , allone )   )\n",
    "    # CURVE\n",
    "    lams = np.linspace( -1.5 , 2.5 ,100)\n",
    "    x_boundary = []\n",
    "    y_boundary = []\n",
    "    for lam in lams:\n",
    "        x = lam*p0 + (1-lam)*p1\n",
    "        temp1 , temp2 = risk_return(stock_covariance  , stock_mean_return , x)\n",
    "        x_boundary.append( temp1 )\n",
    "        y_boundary.append( temp2 )\n",
    "\n",
    "    plt.plot( x_boundary, y_boundary, '--', color='purple')\n",
    "    plt.xlabel(\"risk (sigma)\")\n",
    "    plt.ylabel(\"return\")\n",
    "    plt.show()"
   ]
  },
  {
   "cell_type": "code",
   "execution_count": null,
   "metadata": {},
   "outputs": [],
   "source": []
  }
 ],
 "metadata": {
  "kernelspec": {
   "display_name": "Python 3",
   "language": "python",
   "name": "python3"
  },
  "language_info": {
   "codemirror_mode": {
    "name": "ipython",
    "version": 3
   },
   "file_extension": ".py",
   "mimetype": "text/x-python",
   "name": "python",
   "nbconvert_exporter": "python",
   "pygments_lexer": "ipython3",
   "version": "3.6.7"
  }
 },
 "nbformat": 4,
 "nbformat_minor": 2
}
