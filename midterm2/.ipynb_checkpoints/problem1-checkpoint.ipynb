{
 "cells": [
  {
   "cell_type": "markdown",
   "metadata": {},
   "source": [
    "# 0. Import library and load data"
   ]
  },
  {
   "cell_type": "code",
   "execution_count": null,
   "metadata": {},
   "outputs": [],
   "source": [
    "import pandas as pd \n",
    "import numpy as np\n",
    "\n",
    "import matplotlib.pyplot as plt\n",
    "from numpy.linalg import inv\n",
    "\n",
    "fnames = [\"AMZN\",\"BA\",\"COST\",\"CVX\",\"DIS\",\"ELY\",\"FB\",\"FL\",\"FOX\",\"GILD\",\"GS\",\"HD\",\"HMC\",\"JCP\",\"LMT\"]"
   ]
  },
  {
   "cell_type": "code",
   "execution_count": 47,
   "metadata": {},
   "outputs": [
    {
     "name": "stdout",
     "output_type": "stream",
     "text": [
      "(15, 61)\n"
     ]
    }
   ],
   "source": [
    "sprice = []\n",
    "for fname in fnames:\n",
    "    fname = fname+\".csv\"\n",
    "    a = pd.read_csv(fname)\n",
    "    sprice.append( a['Close'].tolist() )\n",
    "    \n",
    "sprice = np.array(sprice)\n",
    "print(sprice.shape)"
   ]
  },
  {
   "cell_type": "code",
   "execution_count": 48,
   "metadata": {},
   "outputs": [
    {
     "name": "stdout",
     "output_type": "stream",
     "text": [
      "(15, 60)\n"
     ]
    }
   ],
   "source": [
    "sreturn = (sprice[:,1:61] - sprice[:,0:60])/sprice[:,0:60]\n",
    "print(sreturn.shape)"
   ]
  },
  {
   "cell_type": "code",
   "execution_count": 46,
   "metadata": {},
   "outputs": [
    {
     "name": "stdout",
     "output_type": "stream",
     "text": [
      "(15,) (15, 15)\n"
     ]
    }
   ],
   "source": [
    "ave_return = np.mean( sreturn, axis=1 )\n",
    "ave_risk = np.cov( sreturn )\n",
    "print(ave_return.shape,ave_risk.shape)"
   ]
  },
  {
   "cell_type": "code",
   "execution_count": 49,
   "metadata": {},
   "outputs": [
    {
     "data": {
      "text/plain": [
       "15"
      ]
     },
     "execution_count": 49,
     "metadata": {},
     "output_type": "execute_result"
    }
   ],
   "source": [
    "len(ave_return)"
   ]
  },
  {
   "cell_type": "markdown",
   "metadata": {},
   "source": [
    "# 1. Find the compostion of the minimum risk portfolio"
   ]
  },
  {
   "cell_type": "code",
   "execution_count": 58,
   "metadata": {},
   "outputs": [],
   "source": [
    "def get_minimum_risk_portfolio( ave_return , ave_risk ):\n",
    "    n = len(ave_return)\n",
    "    allone=np.array( [1]*n ) \n",
    "    matrix_inv = inv( ave_risk )\n",
    "    x = np.matmul( matrix_inv , allone )/ np.matmul( allone, np.matmul( matrix_inv , allone )   )\n",
    "    return x\n",
    "def calculate_return_risk( ave_return , ave_risk , x ):\n",
    "    r = np.matmul( ave_return , x )\n",
    "    risk = np.sqrt( np.matmul( x, np.matmul( ave_risk ,x ) ) )\n",
    "    return r , risk"
   ]
  },
  {
   "cell_type": "code",
   "execution_count": 59,
   "metadata": {},
   "outputs": [],
   "source": [
    "ans = get_minimum_risk_portfolio(ave_return , ave_risk)"
   ]
  },
  {
   "cell_type": "code",
   "execution_count": 60,
   "metadata": {},
   "outputs": [
    {
     "name": "stdout",
     "output_type": "stream",
     "text": [
      "the minimum risk portfolio\n",
      "[ 0.02188086 -0.09589419  0.08279043  0.21043018 -0.11461451  0.00323543\n",
      "  0.02072244  0.05652084  0.0901652   0.02343615 -0.06288128  0.11052535\n",
      "  0.19094801  0.02054029  0.44219479]\n",
      "the return and risk\n",
      "(0.010126068646388138, 0.028134052522564467)\n"
     ]
    }
   ],
   "source": [
    "print(\"the minimum risk portfolio\")\n",
    "print(ans)\n",
    "print(\"the return and risk\")\n",
    "print(calculate_return_risk(ave_return , ave_risk , ans ))"
   ]
  },
  {
   "cell_type": "markdown",
   "metadata": {},
   "source": [
    "# 2.3.4. Efficient frontier, Scatter plot, Capital Allocation Line"
   ]
  },
  {
   "cell_type": "code",
   "execution_count": 66,
   "metadata": {},
   "outputs": [],
   "source": [
    "def get_targent_portfolio( ave_return , ave_risk , Rf ):\n",
    "    n = len(ave_return)\n",
    "    R1 = ave_return - np.array( [1]* n ) * Rf\n",
    "    z = np.matmul( inv(  ave_risk ), R1 )\n",
    "    x = z/sum(z)\n",
    "    return x\n",
    "\n",
    "def calculate_two_portfolio(  x1 ,  lam , x2 ):\n",
    "    return x1*lam + (1-lam)*x2\n",
    "\n",
    "def plot_stocks_hyperbola_via_tangent( fnames, ave_return , ave_risk , Rf ):\n",
    "    n = len(ave_return)\n",
    "    # (1) plot the (risk,return) for all the stocks\n",
    "    xp = np.sqrt( np.diag( ave_risk ))\n",
    "    yp = ave_return\n",
    "    plt.plot( xp , yp ,'o',color='darkgreen' )\n",
    "    for i in range( n ):\n",
    "        plt.annotate( fnames[i], (xp[i]+0.001, yp[i]-0.001) , color='darkgreen'   )\n",
    "\n",
    "    # (2) plot the minimum risk and its return\n",
    "    x_min = get_minimum_risk_portfolio( ave_return , ave_risk )\n",
    "    yp_x_min , xp_x_min  = calculate_return_risk( ave_return , ave_risk ,  x_min )\n",
    "    plt.plot( xp_x_min , yp_x_min ,'o',color='b' )\n",
    "    plt.annotate( \"min risk\", ( xp_x_min -0.004 , yp_x_min+0.001 ) , color='b'   )\n",
    "\n",
    "    # (3) plot the hyperbola from tangent point and minimum risk point\n",
    "    x_G = get_targent_portfolio( ave_return , ave_risk , Rf )\n",
    "    yp_x_G , xp_x_G = calculate_return_risk( ave_return , ave_risk , x_G )\n",
    "    plt.plot( xp_x_G , yp_x_G ,'o',color='purple' )\n",
    "    plt.annotate( \"G\", ( xp_x_G -0.004 , yp_x_G+0.001 ) , color='purple'   )\n",
    "    # make linear combination of x_G and x_min\n",
    "    lams = np.linspace( -1 , 2 ,100)\n",
    "    x_boundary = []\n",
    "    y_boundary = []\n",
    "    for lam in lams:\n",
    "        temp2 , temp1 = calculate_return_risk( ave_return , ave_risk ,  calculate_two_portfolio( x_min, lam , x_G ) )\n",
    "        x_boundary.append( temp1 )\n",
    "        y_boundary.append( temp2 )\n",
    "    plt.plot( x_boundary, y_boundary, '--', color='purple')\n",
    "\n",
    "    # (4) plot the Rf point and tangent line \n",
    "    plt.plot( 0 , Rf ,'o',color='black'  )\n",
    "    plt.annotate( \"Rf\", ( 0 ,Rf ) , color='black'   )\n",
    "    plt.plot([0, 2 * xp_x_G ], [Rf,  2 * yp_x_G], color='k', linestyle='-', linewidth=1)\n",
    "\n",
    "\n",
    "    # (5) plot the axis\n",
    "    plt.axhline(0, color='black',linewidth=1)\n",
    "    plt.axvline(0, color='black',linewidth=1)\n",
    "\n",
    "    plt.ylabel('return')\n",
    "    plt.xlabel('risk (standard deviation) ')\n",
    "    plt.title(\"portfolio\")\n",
    "    plt.plot()"
   ]
  },
  {
   "cell_type": "code",
   "execution_count": 67,
   "metadata": {},
   "outputs": [
    {
     "data": {
      "image/png": "[encoded data removed]",
      "text/plain": [
       "<Figure size 432x288 with 1 Axes>"
      ]
     },
     "metadata": {
      "needs_background": "light"
     },
     "output_type": "display_data"
    }
   ],
   "source": [
    "plot_stocks_hyperbola_via_tangent( fnames, ave_return , ave_risk , 0.001 )"
   ]
  },
  {
   "cell_type": "code",
   "execution_count": null,
   "metadata": {},
   "outputs": [],
   "source": []
  }
 ],
 "metadata": {
  "kernelspec": {
   "display_name": "Python 3",
   "language": "python",
   "name": "python3"
  },
  "language_info": {
   "codemirror_mode": {
    "name": "ipython",
    "version": 3
   },
   "file_extension": ".py",
   "mimetype": "text/x-python",
   "name": "python",
   "nbconvert_exporter": "python",
   "pygments_lexer": "ipython3",
   "version": "3.6.7"
  }
 },
 "nbformat": 4,
 "nbformat_minor": 2
}
