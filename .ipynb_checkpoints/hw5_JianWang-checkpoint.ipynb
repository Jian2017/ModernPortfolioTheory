{
 "cells": [
  {
   "cell_type": "markdown",
   "metadata": {},
   "source": [
    "# Convert data to standard form"
   ]
  },
  {
   "cell_type": "code",
   "execution_count": 9,
   "metadata": {},
   "outputs": [
    {
     "data": {
      "text/html": [
       "<div>\n",
       "<style scoped>\n",
       "    .dataframe tbody tr th:only-of-type {\n",
       "        vertical-align: middle;\n",
       "    }\n",
       "\n",
       "    .dataframe tbody tr th {\n",
       "        vertical-align: top;\n",
       "    }\n",
       "\n",
       "    .dataframe thead th {\n",
       "        text-align: right;\n",
       "    }\n",
       "</style>\n",
       "<table border=\"1\" class=\"dataframe\">\n",
       "  <thead>\n",
       "    <tr style=\"text-align: right;\">\n",
       "      <th></th>\n",
       "      <th>Unnamed: 0</th>\n",
       "      <th>Date</th>\n",
       "      <th>^GSPC</th>\n",
       "      <th>AMZN</th>\n",
       "      <th>AAPL</th>\n",
       "      <th>GOOG</th>\n",
       "      <th>MSFT</th>\n",
       "      <th>INTC</th>\n",
       "    </tr>\n",
       "  </thead>\n",
       "  <tbody>\n",
       "    <tr>\n",
       "      <th>0</th>\n",
       "      <td>1</td>\n",
       "      <td>2010-01-01</td>\n",
       "      <td>1073.869995</td>\n",
       "      <td>125.410004</td>\n",
       "      <td>18.224987</td>\n",
       "      <td>263.257751</td>\n",
       "      <td>22.330048</td>\n",
       "      <td>14.416760</td>\n",
       "    </tr>\n",
       "    <tr>\n",
       "      <th>1</th>\n",
       "      <td>2</td>\n",
       "      <td>2010-02-01</td>\n",
       "      <td>1104.489990</td>\n",
       "      <td>118.400002</td>\n",
       "      <td>19.416830</td>\n",
       "      <td>261.697906</td>\n",
       "      <td>22.718327</td>\n",
       "      <td>15.256495</td>\n",
       "    </tr>\n",
       "    <tr>\n",
       "      <th>2</th>\n",
       "      <td>3</td>\n",
       "      <td>2010-03-01</td>\n",
       "      <td>1169.430054</td>\n",
       "      <td>135.770004</td>\n",
       "      <td>22.299650</td>\n",
       "      <td>281.727631</td>\n",
       "      <td>23.318153</td>\n",
       "      <td>16.696495</td>\n",
       "    </tr>\n",
       "    <tr>\n",
       "      <th>3</th>\n",
       "      <td>4</td>\n",
       "      <td>2010-04-01</td>\n",
       "      <td>1186.689941</td>\n",
       "      <td>137.100006</td>\n",
       "      <td>24.775391</td>\n",
       "      <td>261.151459</td>\n",
       "      <td>24.313295</td>\n",
       "      <td>17.108465</td>\n",
       "    </tr>\n",
       "    <tr>\n",
       "      <th>4</th>\n",
       "      <td>5</td>\n",
       "      <td>2010-05-01</td>\n",
       "      <td>1089.410034</td>\n",
       "      <td>125.459999</td>\n",
       "      <td>24.375896</td>\n",
       "      <td>241.245926</td>\n",
       "      <td>20.539722</td>\n",
       "      <td>16.044811</td>\n",
       "    </tr>\n",
       "  </tbody>\n",
       "</table>\n",
       "</div>"
      ],
      "text/plain": [
       "   Unnamed: 0        Date        ^GSPC        AMZN       AAPL        GOOG  \\\n",
       "0           1  2010-01-01  1073.869995  125.410004  18.224987  263.257751   \n",
       "1           2  2010-02-01  1104.489990  118.400002  19.416830  261.697906   \n",
       "2           3  2010-03-01  1169.430054  135.770004  22.299650  281.727631   \n",
       "3           4  2010-04-01  1186.689941  137.100006  24.775391  261.151459   \n",
       "4           5  2010-05-01  1089.410034  125.459999  24.375896  241.245926   \n",
       "\n",
       "        MSFT       INTC  \n",
       "0  22.330048  14.416760  \n",
       "1  22.718327  15.256495  \n",
       "2  23.318153  16.696495  \n",
       "3  24.313295  17.108465  \n",
       "4  20.539722  16.044811  "
      ]
     },
     "execution_count": 9,
     "metadata": {},
     "output_type": "execute_result"
    }
   ],
   "source": [
    "import pandas as pd \n",
    "import numpy as np\n",
    "from numpy.linalg import inv\n",
    "import matplotlib.pyplot as plt\n",
    "\n",
    "\n",
    "a=pd.read_csv(\"hw5_1.csv\") \n",
    "a.head()"
   ]
  },
  {
   "cell_type": "code",
   "execution_count": 12,
   "metadata": {},
   "outputs": [
    {
     "name": "stdout",
     "output_type": "stream",
     "text": [
      "['^GSPC', 'AMZN', 'AAPL', 'GOOG', 'MSFT', 'INTC']\n"
     ]
    }
   ],
   "source": [
    "filenames = a.columns.tolist()[ 2: ]\n",
    "print(filenames)\n",
    "market_name  = a.columns.tolist()[2 ]\n",
    "stock_names  = a.columns.tolist()[3:]"
   ]
  },
  {
   "cell_type": "code",
   "execution_count": 34,
   "metadata": {},
   "outputs": [
    {
     "name": "stdout",
     "output_type": "stream",
     "text": [
      "(60,) (60, 5)\n",
      "(59,) (59, 5)\n"
     ]
    }
   ],
   "source": [
    "m_price= a[market_name].values\n",
    "s_price = a[stock_names].values\n",
    "print(m_price.shape, s_price.shape)\n",
    "\n",
    "m_return = (m_price[1:]-m_price[0:-1])/m_price[1:]\n",
    "s_return = (s_price[1:,:]-s_price[0:-1,:])/s_price[1:,:]\n",
    "print(m_return.shape, s_return.shape)\n",
    "\n",
    "plt.show()"
   ]
  },
  {
   "cell_type": "markdown",
   "metadata": {},
   "source": [
    "# Single Index Model tools\n",
    "\n",
    "All the equation can be found here:  \n",
    "http://www.stat.ucla.edu/~nchristo/statistics_c183_c283/statc183c283_single_index.pdf\n",
    "\n"
   ]
  },
  {
   "cell_type": "markdown",
   "metadata": {},
   "source": [
    "## Market"
   ]
  },
  {
   "cell_type": "code",
   "execution_count": 35,
   "metadata": {},
   "outputs": [],
   "source": [
    "def get_market( market_return ):\n",
    "    market_return_mean = np.mean(market_return)\n",
    "    market_sigma_square = np.sum( (market_return -market_return_mean)*(market_return -market_return_mean ) )\n",
    "    return market_return_mean, market_sigma_square"
   ]
  },
  {
   "cell_type": "markdown",
   "metadata": {},
   "source": [
    "## Stock"
   ]
  },
  {
   "cell_type": "code",
   "execution_count": 36,
   "metadata": {},
   "outputs": [],
   "source": [
    "# given stock return and market return, compute beta\n",
    "def get_stock( stock_return , market_return ):\n",
    "    n = len(market_return)\n",
    "    market_return_mean = np.mean(market_return)\n",
    "    stock_return_mean = np.mean(stock_return)\n",
    "    a = np.sum( ( stock_return -stock_return_mean )*(market_return -market_return_mean ) )\n",
    "    b = np.sum( (market_return -market_return_mean)*(market_return -market_return_mean ) )\n",
    "    beta = a/b\n",
    "    alpha = stock_return_mean - beta * market_return_mean\n",
    "    \n",
    "    c = np.sum( (stock_return - alpha - beta * market_return)**2 )\n",
    "    stock_residue_sigma_square = c / ( len(market_return) - 2 )\n",
    "    return alpha, beta, stock_residue_sigma_square"
   ]
  },
  {
   "cell_type": "code",
   "execution_count": 37,
   "metadata": {},
   "outputs": [
    {
     "data": {
      "text/plain": [
       "(0.010295497253684612, 0.079885150303147162)"
      ]
     },
     "execution_count": 37,
     "metadata": {},
     "output_type": "execute_result"
    }
   ],
   "source": [
    "get_market(m_return)"
   ]
  },
  {
   "cell_type": "code",
   "execution_count": 40,
   "metadata": {},
   "outputs": [
    {
     "data": {
      "text/plain": [
       "(0.0016939183923475754, 1.0287296545467468, 0.0045421531030423821)"
      ]
     },
     "execution_count": 40,
     "metadata": {},
     "output_type": "execute_result"
    }
   ],
   "source": [
    "get_stock( s_return[:,0] , m_return )"
   ]
  },
  {
   "cell_type": "markdown",
   "metadata": {},
   "source": [
    "## complete information for single index model"
   ]
  },
  {
   "cell_type": "code",
   "execution_count": 87,
   "metadata": {},
   "outputs": [
    {
     "name": "stdout",
     "output_type": "stream",
     "text": [
      "['market return', 'market sigma square']\n",
      "[ 0.0102955   0.07988515]\n",
      "\n",
      "\n",
      "['alpha', 'beta', 'stock residue sigma square']\n",
      "[[ 0.00169392  1.02872965  0.00454215]\n",
      " [ 0.01791256  0.83491196  0.00369096]\n",
      " [-0.0017541   1.05401581  0.00348485]\n",
      " [-0.00158754  1.01920465  0.00217422]\n",
      " [ 0.00129761  0.98309138  0.00274854]]\n"
     ]
    }
   ],
   "source": [
    "market_info = np.array( get_market(m_return) )\n",
    "print([\"market return\",\"market sigma square\" ] )\n",
    "print(market_info)\n",
    "print(\"\\n\")\n",
    "stock_info = []\n",
    "for i in range(5):\n",
    "    stock_info.append( list(get_stock( s_return[:,i] , m_return )) )\n",
    "stock_info = np.array( stock_info )\n",
    "print([\"alpha\", \"beta\", \"stock residue sigma square\"])\n",
    "print(stock_info)"
   ]
  },
  {
   "cell_type": "markdown",
   "metadata": {},
   "source": [
    "## Method 1. Covariant matrix from single index model"
   ]
  },
  {
   "cell_type": "code",
   "execution_count": 91,
   "metadata": {},
   "outputs": [
    {
     "name": "stdout",
     "output_type": "stream",
     "text": [
      "['covariance matrix']\n",
      "[[ 0.08908339  0.06861325  0.08661925  0.08375847  0.08079067]\n",
      " [ 0.06861325  0.05937714  0.07029976  0.06797796  0.06556931]\n",
      " [ 0.08661925  0.07029976  0.0922332   0.08581725  0.0827765 ]\n",
      " [ 0.08375847  0.06797796  0.08581725  0.08515717  0.08004263]\n",
      " [ 0.08079067  0.06556931  0.0827765   0.08004263  0.07995503]]\n",
      "\n",
      "\n",
      "['mean return']\n",
      "[ 0.0122852   0.0265084   0.00909752  0.00890568  0.01141902]\n"
     ]
    }
   ],
   "source": [
    "beta_info = []\n",
    "stock_residue_sigma_square_info = []\n",
    "for i in range(5):\n",
    "    beta_info.append( stock_info[i,1] )\n",
    "    stock_residue_sigma_square_info.append( stock_info[i,2] )\n",
    "beta_info = np.array( beta_info )\n",
    "stock_residue_sigma_square_info = np.array( stock_residue_sigma_square_info )\n",
    "\n",
    "stock_covariance = np.matmul(  beta_info.reshape(5,1), beta_info.reshape(1,5) ) *market_info[1] \n",
    "stock_covariance = stock_covariance + np.diag(stock_residue_sigma_square_info)\n",
    "\n",
    "print([\"covariance matrix\"])\n",
    "print(stock_covariance)\n",
    "print(\"\\n\")\n",
    "stock_return_mean = np.mean( s_return , axis = 0 )\n",
    "print([\"mean return\"])\n",
    "print(stock_return_mean)"
   ]
  },
  {
   "cell_type": "code",
   "execution_count": 83,
   "metadata": {},
   "outputs": [
    {
     "name": "stdout",
     "output_type": "stream",
     "text": [
      "['AMZN', 'AAPL', 'GOOG', 'MSFT', 'INTC']\n",
      "[-0.12391056  4.59292077 -1.2289942  -1.88368189 -0.35633411]\n"
     ]
    }
   ],
   "source": [
    "# Given the excess return and covariance, find z and normalize it\n",
    "Rf = 0.002\n",
    "\n",
    "z = np.matmul( inv(stock_covariance) ,  (stock_return_mean - Rf) )\n",
    "\n",
    "x = z/np.sum(z)\n",
    "\n",
    "print(stock_names)\n",
    "print(x)"
   ]
  },
  {
   "cell_type": "markdown",
   "metadata": {},
   "source": [
    "## Method 2. Ranking excess return to beta ratio"
   ]
  },
  {
   "cell_type": "code",
   "execution_count": 121,
   "metadata": {},
   "outputs": [
    {
     "data": {
      "text/html": [
       "<div>\n",
       "<style scoped>\n",
       "    .dataframe tbody tr th:only-of-type {\n",
       "        vertical-align: middle;\n",
       "    }\n",
       "\n",
       "    .dataframe tbody tr th {\n",
       "        vertical-align: top;\n",
       "    }\n",
       "\n",
       "    .dataframe thead th {\n",
       "        text-align: right;\n",
       "    }\n",
       "</style>\n",
       "<table border=\"1\" class=\"dataframe\">\n",
       "  <thead>\n",
       "    <tr style=\"text-align: right;\">\n",
       "      <th></th>\n",
       "      <th>stock name</th>\n",
       "      <th>alpha</th>\n",
       "      <th>beta</th>\n",
       "      <th>stock residue sigma square</th>\n",
       "      <th>(Ri-Rf)/beta</th>\n",
       "      <th>(Ri-Rf)*beta/residueSigmaSquare</th>\n",
       "      <th>betaSquare/residueSigmaSquare</th>\n",
       "    </tr>\n",
       "  </thead>\n",
       "  <tbody>\n",
       "    <tr>\n",
       "      <th>0</th>\n",
       "      <td>AMZN</td>\n",
       "      <td>0.001694</td>\n",
       "      <td>1.028730</td>\n",
       "      <td>0.004542</td>\n",
       "      <td>0.009998</td>\n",
       "      <td>2.329444</td>\n",
       "      <td>232.991860</td>\n",
       "    </tr>\n",
       "    <tr>\n",
       "      <th>1</th>\n",
       "      <td>AAPL</td>\n",
       "      <td>0.017913</td>\n",
       "      <td>0.834912</td>\n",
       "      <td>0.003691</td>\n",
       "      <td>0.029354</td>\n",
       "      <td>5.543910</td>\n",
       "      <td>188.860871</td>\n",
       "    </tr>\n",
       "    <tr>\n",
       "      <th>2</th>\n",
       "      <td>GOOG</td>\n",
       "      <td>-0.001754</td>\n",
       "      <td>1.054016</td>\n",
       "      <td>0.003485</td>\n",
       "      <td>0.006734</td>\n",
       "      <td>2.146693</td>\n",
       "      <td>318.794414</td>\n",
       "    </tr>\n",
       "    <tr>\n",
       "      <th>3</th>\n",
       "      <td>MSFT</td>\n",
       "      <td>-0.001588</td>\n",
       "      <td>1.019205</td>\n",
       "      <td>0.002174</td>\n",
       "      <td>0.006776</td>\n",
       "      <td>3.237157</td>\n",
       "      <td>477.769925</td>\n",
       "    </tr>\n",
       "    <tr>\n",
       "      <th>4</th>\n",
       "      <td>INTC</td>\n",
       "      <td>0.001298</td>\n",
       "      <td>0.983091</td>\n",
       "      <td>0.002749</td>\n",
       "      <td>0.009581</td>\n",
       "      <td>3.368977</td>\n",
       "      <td>351.630189</td>\n",
       "    </tr>\n",
       "  </tbody>\n",
       "</table>\n",
       "</div>"
      ],
      "text/plain": [
       "  stock name     alpha      beta  stock residue sigma square  (Ri-Rf)/beta  \\\n",
       "0       AMZN  0.001694  1.028730                    0.004542      0.009998   \n",
       "1       AAPL  0.017913  0.834912                    0.003691      0.029354   \n",
       "2       GOOG -0.001754  1.054016                    0.003485      0.006734   \n",
       "3       MSFT -0.001588  1.019205                    0.002174      0.006776   \n",
       "4       INTC  0.001298  0.983091                    0.002749      0.009581   \n",
       "\n",
       "   (Ri-Rf)*beta/residueSigmaSquare  betaSquare/residueSigmaSquare  \n",
       "0                         2.329444                     232.991860  \n",
       "1                         5.543910                     188.860871  \n",
       "2                         2.146693                     318.794414  \n",
       "3                         3.237157                     477.769925  \n",
       "4                         3.368977                     351.630189  "
      ]
     },
     "execution_count": 121,
     "metadata": {},
     "output_type": "execute_result"
    }
   ],
   "source": [
    "# construct df\n",
    "\n",
    "dat0 = pd.DataFrame({\"stock name\":stock_names})\n",
    "dat1 = pd.DataFrame({\"alpha\": stock_info[:,0]})\n",
    "dat2 = pd.DataFrame({\"beta\": stock_info[:,1]})\n",
    "dat3 = pd.DataFrame({\"stock residue sigma square\": stock_info[:,2] })\n",
    "dat4 = pd.DataFrame({\"(Ri-Rf)/beta\": (stock_return_mean - Rf)/stock_info[:,1] })\n",
    "\n",
    "dat5 =  pd.DataFrame({\"(Ri-Rf)*beta/residueSigmaSquare\": (stock_return_mean - Rf)*stock_info[:,1]/ stock_info[:,2] })\n",
    "dat6 =  pd.DataFrame({\"betaSquare/residueSigmaSquare\" : stock_info[:,1]**2/stock_info[:,2] })\n",
    "dat = dat0.join(dat1).join(dat2).join(dat3).join(dat4).join(dat5).join(dat6)\n",
    "dat"
   ]
  },
  {
   "cell_type": "code",
   "execution_count": 122,
   "metadata": {},
   "outputs": [
    {
     "data": {
      "text/html": [
       "<div>\n",
       "<style scoped>\n",
       "    .dataframe tbody tr th:only-of-type {\n",
       "        vertical-align: middle;\n",
       "    }\n",
       "\n",
       "    .dataframe tbody tr th {\n",
       "        vertical-align: top;\n",
       "    }\n",
       "\n",
       "    .dataframe thead th {\n",
       "        text-align: right;\n",
       "    }\n",
       "</style>\n",
       "<table border=\"1\" class=\"dataframe\">\n",
       "  <thead>\n",
       "    <tr style=\"text-align: right;\">\n",
       "      <th></th>\n",
       "      <th>stock name</th>\n",
       "      <th>alpha</th>\n",
       "      <th>beta</th>\n",
       "      <th>stock residue sigma square</th>\n",
       "      <th>(Ri-Rf)/beta</th>\n",
       "      <th>(Ri-Rf)*beta/residueSigmaSquare</th>\n",
       "      <th>betaSquare/residueSigmaSquare</th>\n",
       "    </tr>\n",
       "  </thead>\n",
       "  <tbody>\n",
       "    <tr>\n",
       "      <th>0</th>\n",
       "      <td>AAPL</td>\n",
       "      <td>0.017913</td>\n",
       "      <td>0.834912</td>\n",
       "      <td>0.003691</td>\n",
       "      <td>0.029354</td>\n",
       "      <td>5.543910</td>\n",
       "      <td>188.860871</td>\n",
       "    </tr>\n",
       "    <tr>\n",
       "      <th>1</th>\n",
       "      <td>AMZN</td>\n",
       "      <td>0.001694</td>\n",
       "      <td>1.028730</td>\n",
       "      <td>0.004542</td>\n",
       "      <td>0.009998</td>\n",
       "      <td>2.329444</td>\n",
       "      <td>232.991860</td>\n",
       "    </tr>\n",
       "    <tr>\n",
       "      <th>2</th>\n",
       "      <td>INTC</td>\n",
       "      <td>0.001298</td>\n",
       "      <td>0.983091</td>\n",
       "      <td>0.002749</td>\n",
       "      <td>0.009581</td>\n",
       "      <td>3.368977</td>\n",
       "      <td>351.630189</td>\n",
       "    </tr>\n",
       "    <tr>\n",
       "      <th>3</th>\n",
       "      <td>MSFT</td>\n",
       "      <td>-0.001588</td>\n",
       "      <td>1.019205</td>\n",
       "      <td>0.002174</td>\n",
       "      <td>0.006776</td>\n",
       "      <td>3.237157</td>\n",
       "      <td>477.769925</td>\n",
       "    </tr>\n",
       "    <tr>\n",
       "      <th>4</th>\n",
       "      <td>GOOG</td>\n",
       "      <td>-0.001754</td>\n",
       "      <td>1.054016</td>\n",
       "      <td>0.003485</td>\n",
       "      <td>0.006734</td>\n",
       "      <td>2.146693</td>\n",
       "      <td>318.794414</td>\n",
       "    </tr>\n",
       "  </tbody>\n",
       "</table>\n",
       "</div>"
      ],
      "text/plain": [
       "  stock name     alpha      beta  stock residue sigma square  (Ri-Rf)/beta  \\\n",
       "0       AAPL  0.017913  0.834912                    0.003691      0.029354   \n",
       "1       AMZN  0.001694  1.028730                    0.004542      0.009998   \n",
       "2       INTC  0.001298  0.983091                    0.002749      0.009581   \n",
       "3       MSFT -0.001588  1.019205                    0.002174      0.006776   \n",
       "4       GOOG -0.001754  1.054016                    0.003485      0.006734   \n",
       "\n",
       "   (Ri-Rf)*beta/residueSigmaSquare  betaSquare/residueSigmaSquare  \n",
       "0                         5.543910                     188.860871  \n",
       "1                         2.329444                     232.991860  \n",
       "2                         3.368977                     351.630189  \n",
       "3                         3.237157                     477.769925  \n",
       "4                         2.146693                     318.794414  "
      ]
     },
     "execution_count": 122,
     "metadata": {},
     "output_type": "execute_result"
    }
   ],
   "source": [
    "dat.sort_values(by=[\"(Ri-Rf)/beta\"] , ascending=False ,inplace = True)\n",
    "dat.reset_index( drop=True ,inplace = True )\n",
    "dat"
   ]
  },
  {
   "cell_type": "code",
   "execution_count": 123,
   "metadata": {},
   "outputs": [],
   "source": [
    "\n",
    "COL2 = []\n",
    "COL4 = []\n",
    "temp2 = 0\n",
    "temp4 = 0\n",
    "for i in range(5):\n",
    "    temp2 = temp2 + dat.iloc[i][\"(Ri-Rf)*beta/residueSigmaSquare\"]\n",
    "    temp4 = temp4 + dat.iloc[i][\"betaSquare/residueSigmaSquare\"]\n",
    "\n",
    "    COL2.append(temp2)\n",
    "    COL4.append(temp4)\n",
    "    \n",
    "dat7 =  pd.DataFrame({\"COL2\" : COL2 })\n",
    "dat8 =  pd.DataFrame({\"COL4\" : COL4 })\n",
    "dat = dat.join(dat7).join(dat8)"
   ]
  },
  {
   "cell_type": "code",
   "execution_count": 124,
   "metadata": {},
   "outputs": [
    {
     "data": {
      "text/html": [
       "<div>\n",
       "<style scoped>\n",
       "    .dataframe tbody tr th:only-of-type {\n",
       "        vertical-align: middle;\n",
       "    }\n",
       "\n",
       "    .dataframe tbody tr th {\n",
       "        vertical-align: top;\n",
       "    }\n",
       "\n",
       "    .dataframe thead th {\n",
       "        text-align: right;\n",
       "    }\n",
       "</style>\n",
       "<table border=\"1\" class=\"dataframe\">\n",
       "  <thead>\n",
       "    <tr style=\"text-align: right;\">\n",
       "      <th></th>\n",
       "      <th>stock name</th>\n",
       "      <th>alpha</th>\n",
       "      <th>beta</th>\n",
       "      <th>stock residue sigma square</th>\n",
       "      <th>(Ri-Rf)/beta</th>\n",
       "      <th>(Ri-Rf)*beta/residueSigmaSquare</th>\n",
       "      <th>betaSquare/residueSigmaSquare</th>\n",
       "      <th>COL2</th>\n",
       "      <th>COL4</th>\n",
       "    </tr>\n",
       "  </thead>\n",
       "  <tbody>\n",
       "    <tr>\n",
       "      <th>0</th>\n",
       "      <td>AAPL</td>\n",
       "      <td>0.017913</td>\n",
       "      <td>0.834912</td>\n",
       "      <td>0.003691</td>\n",
       "      <td>0.029354</td>\n",
       "      <td>5.543910</td>\n",
       "      <td>188.860871</td>\n",
       "      <td>5.543910</td>\n",
       "      <td>188.860871</td>\n",
       "    </tr>\n",
       "    <tr>\n",
       "      <th>1</th>\n",
       "      <td>AMZN</td>\n",
       "      <td>0.001694</td>\n",
       "      <td>1.028730</td>\n",
       "      <td>0.004542</td>\n",
       "      <td>0.009998</td>\n",
       "      <td>2.329444</td>\n",
       "      <td>232.991860</td>\n",
       "      <td>7.873355</td>\n",
       "      <td>421.852731</td>\n",
       "    </tr>\n",
       "    <tr>\n",
       "      <th>2</th>\n",
       "      <td>INTC</td>\n",
       "      <td>0.001298</td>\n",
       "      <td>0.983091</td>\n",
       "      <td>0.002749</td>\n",
       "      <td>0.009581</td>\n",
       "      <td>3.368977</td>\n",
       "      <td>351.630189</td>\n",
       "      <td>11.242332</td>\n",
       "      <td>773.482921</td>\n",
       "    </tr>\n",
       "    <tr>\n",
       "      <th>3</th>\n",
       "      <td>MSFT</td>\n",
       "      <td>-0.001588</td>\n",
       "      <td>1.019205</td>\n",
       "      <td>0.002174</td>\n",
       "      <td>0.006776</td>\n",
       "      <td>3.237157</td>\n",
       "      <td>477.769925</td>\n",
       "      <td>14.479489</td>\n",
       "      <td>1251.252846</td>\n",
       "    </tr>\n",
       "    <tr>\n",
       "      <th>4</th>\n",
       "      <td>GOOG</td>\n",
       "      <td>-0.001754</td>\n",
       "      <td>1.054016</td>\n",
       "      <td>0.003485</td>\n",
       "      <td>0.006734</td>\n",
       "      <td>2.146693</td>\n",
       "      <td>318.794414</td>\n",
       "      <td>16.626182</td>\n",
       "      <td>1570.047260</td>\n",
       "    </tr>\n",
       "  </tbody>\n",
       "</table>\n",
       "</div>"
      ],
      "text/plain": [
       "  stock name     alpha      beta  stock residue sigma square  (Ri-Rf)/beta  \\\n",
       "0       AAPL  0.017913  0.834912                    0.003691      0.029354   \n",
       "1       AMZN  0.001694  1.028730                    0.004542      0.009998   \n",
       "2       INTC  0.001298  0.983091                    0.002749      0.009581   \n",
       "3       MSFT -0.001588  1.019205                    0.002174      0.006776   \n",
       "4       GOOG -0.001754  1.054016                    0.003485      0.006734   \n",
       "\n",
       "   (Ri-Rf)*beta/residueSigmaSquare  betaSquare/residueSigmaSquare       COL2  \\\n",
       "0                         5.543910                     188.860871   5.543910   \n",
       "1                         2.329444                     232.991860   7.873355   \n",
       "2                         3.368977                     351.630189  11.242332   \n",
       "3                         3.237157                     477.769925  14.479489   \n",
       "4                         2.146693                     318.794414  16.626182   \n",
       "\n",
       "          COL4  \n",
       "0   188.860871  \n",
       "1   421.852731  \n",
       "2   773.482921  \n",
       "3  1251.252846  \n",
       "4  1570.047260  "
      ]
     },
     "execution_count": 124,
     "metadata": {},
     "output_type": "execute_result"
    }
   ],
   "source": [
    "dat"
   ]
  },
  {
   "cell_type": "code",
   "execution_count": 130,
   "metadata": {},
   "outputs": [],
   "source": [
    "Cstar = dat[\"COL2\"][4] *market_info[1] /(dat[\"COL4\"][4]* market_info[1] + 1)"
   ]
  },
  {
   "cell_type": "code",
   "execution_count": 140,
   "metadata": {},
   "outputs": [
    {
     "name": "stdout",
     "output_type": "stream",
     "text": [
      "['AAPL' 'AMZN' 'INTC' 'MSFT' 'GOOG']\n",
      "[ 4.59292077 -0.12391056 -0.35633411 -1.88368189 -1.2289942 ]\n"
     ]
    }
   ],
   "source": [
    "z = (dat[\"(Ri-Rf)/beta\"] - Cstar )*dat[\"beta\"]/dat[\"stock residue sigma square\"]\n",
    "x = np.array( z/np.sum(z) )\n",
    "print(np.array( dat[\"stock name\"]) )\n",
    "print(x)"
   ]
  },
  {
   "cell_type": "code",
   "execution_count": 137,
   "metadata": {},
   "outputs": [],
   "source": [
    "# Which agrees exactly with method 1\n",
    "# ['AMZN', 'AAPL', 'GOOG', 'MSFT', 'INTC']\n",
    "# [-0.12391056  4.59292077 -1.2289942  -1.88368189 -0.35633411]"
   ]
  },
  {
   "cell_type": "code",
   "execution_count": null,
   "metadata": {},
   "outputs": [],
   "source": []
  }
 ],
 "metadata": {
  "kernelspec": {
   "display_name": "Python 3",
   "language": "python",
   "name": "python3"
  },
  "language_info": {
   "codemirror_mode": {
    "name": "ipython",
    "version": 3
   },
   "file_extension": ".py",
   "mimetype": "text/x-python",
   "name": "python",
   "nbconvert_exporter": "python",
   "pygments_lexer": "ipython3",
   "version": "3.6.7"
  }
 },
 "nbformat": 4,
 "nbformat_minor": 2
}
