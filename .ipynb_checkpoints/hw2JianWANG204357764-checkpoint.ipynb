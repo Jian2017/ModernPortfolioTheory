{
 "cells": [
  {
   "cell_type": "code",
   "execution_count": 1,
   "metadata": {},
   "outputs": [],
   "source": [
    "import pandas as pd \n",
    "import numpy as np\n",
    "import matplotlib.pyplot as plt\n",
    "from numpy.linalg import inv\n",
    "\n",
    "\n",
    "import numpy.random as random\n",
    "\n",
    "def readfile(csvfilename):\n",
    "    a=pd.read_csv(csvfilename) \n",
    "    stocknamelist=a.columns.tolist()[2:]\n",
    "    m=a[stocknamelist].values\n",
    "    T=m.shape[0]\n",
    "    N=m.shape[1]\n",
    "    r=(m[1:T,:]-m[0:T-1,:])/m[0:T-1,:]\n",
    "    \n",
    "    ## return np.array\n",
    "    r=np.array(r)  \n",
    "\n",
    "    ## mean return\n",
    "    r_m=np.mean(r,axis=0)    # E_vector\n",
    "    \n",
    "    ## covariant matrix\n",
    "    c_m=np.cov(r,rowvar=False) \n",
    "    \n",
    "    ## \n",
    "    allone=np.array([1]*N)  # 1_vector\n",
    "    minv = inv(c_m)          # V_tensor\n",
    "    x_min= np.matmul(minv,allone)/ np.matmul( allone, np.matmul(minv,allone)   )\n",
    "    \n",
    "    \n",
    "    ## A B C D\n",
    "    A = np.matmul( r_m , np.matmul( minv , allone  )  )\n",
    "    B = np.matmul( r_m , np.matmul( minv , r_m     )  )\n",
    "    C = np.matmul(allone,np.matmul( minv , allone  )  )\n",
    "    D = B*C - A*A\n",
    "    \n",
    "    \n",
    "    return N,stocknamelist,r_m,c_m ,x_min, [A,B,C,D]\n",
    "\n",
    "\n",
    "    \n",
    "    \n",
    "\n",
    "def minimumRiskPortfolio(c_m):\n",
    "    N=len(c_m[0])\n",
    "    allone=np.array([1]*N)  # 1_vector\n",
    "    minv = inv(c_m)          # V_tensor\n",
    "    x_min= np.matmul(minv,allone)/ np.matmul( allone, np.matmul(minv,allone)   )\n",
    "    return x_min\n",
    "\n",
    "def portfolio(r_m,c_m,x):\n",
    "    return np.sqrt( np.matmul(x, np.matmul(c_m,x) ) ) , np.matmul(r_m,x)\n",
    "\n",
    "def riskless(r_m,c_m,Rf):\n",
    "    N=len(r_m)\n",
    "    R1=r_m-np.array([1]*N)*Rf\n",
    "    z=np.matmul( inv(c_m), R1 )\n",
    "    return z/sum(z)\n",
    "\n",
    "\n",
    "\n",
    "\n",
    "def q_d(stocknamelist,r_m,c_m,A,B,C,D,Rf1):\n",
    "    \n",
    "    a,b=manyMore(r_m,c_m,5000,0.09)\n",
    "    plt.plot(a,b,'.',color='black',markersize=1)\n",
    "    \n",
    "    x1=riskless(r_m,c_m,Rf1)\n",
    "    co1=portfolio(r_m,c_m,x1)\n",
    "    plt.plot(co1[0],co1[1],'o',color='b' ) \n",
    "\n",
    "    \n",
    "    x = np.linspace(0,1.1*co1[0],100)\n",
    "    y = (co1[1]-Rf1)*x/ co1[0] +Rf1 \n",
    "    plt.plot(x, y, '-r', color='b')\n",
    "    \n",
    "    y2 = A/C + np.sqrt( D *(C* x**2 -1) )/C\n",
    "    y3 = A/C - np.sqrt( D *(C* x**2 -1) )/C\n",
    "    plt.plot( x, y2, '-r', color='black')\n",
    "    plt.plot( x, y3, '-r', color='black')\n",
    "    \n",
    "    s_m=np.sqrt(np.diag(c_m))\n",
    "    plt.plot(s_m,r_m,'o',color='darkgreen' ) \n",
    "    for i in range(5):\n",
    "        plt.annotate(stocknamelist[i], (s_m[i]+0.001, r_m[i]-0.001),color='darkgreen'   )\n",
    "\n",
    "\n",
    "\n",
    "    plt.ylabel('return')\n",
    "    plt.xlabel('risk (standard deviation) ')\n",
    "    \n",
    "    plt.plot()\n",
    "    \n",
    "def q_c(stocknamelist,r_m,c_m,Rf1, extend):\n",
    "    \n",
    "    N=len(r_m)\n",
    "    ## \n",
    "    allone=np.array([1]*N)  # 1_vector\n",
    "    minv = inv(c_m)          # V_tensor\n",
    "    \n",
    "    \n",
    "    ## A B C D\n",
    "    A = np.matmul( r_m , np.matmul( minv , allone  )  )\n",
    "    B = np.matmul( r_m , np.matmul( minv , r_m     )  )\n",
    "    C = np.matmul(allone,np.matmul( minv , allone  )  )\n",
    "    D = B*C - A*A\n",
    "    \n",
    "    \n",
    "    \n",
    "    x1=riskless(r_m,c_m,Rf1)\n",
    "    co1=portfolio(r_m,c_m,x1)\n",
    "    plt.plot(co1[0],co1[1],'o',color='b' ) \n",
    "\n",
    "    \n",
    "    x = np.linspace(0,extend*co1[0],1000)\n",
    "    y = (co1[1]-Rf1)*x/ co1[0] +Rf1 \n",
    "    plt.plot(x, y, '-r', color='b')\n",
    "    \n",
    "    y2 = A/C + np.sqrt( D *(C* x**2 -1) )/C\n",
    "    y3 = A/C - np.sqrt( D *(C* x**2 -1) )/C\n",
    "    plt.plot( x, y2, '-r', color='black')\n",
    "    plt.plot( x, y3, '-r', color='black')\n",
    "    \n",
    "    s_m=np.sqrt(np.diag(c_m))\n",
    "    plt.plot(s_m,r_m,'o',color='darkgreen' ) \n",
    "    for i in range(N):\n",
    "        plt.annotate(stocknamelist[i], (s_m[i]+0.001, r_m[i]-0.001),color='darkgreen'   )\n",
    "\n",
    "\n",
    "\n",
    "    plt.ylabel('return')\n",
    "    plt.xlabel('risk (standard deviation) ')\n",
    "    \n",
    "    plt.plot()\n",
    "    \n",
    "def manyMore(r_m,c_m,randomN,xlimit):\n",
    "    a=[]\n",
    "    b=[]\n",
    "    for i in range(randomN):\n",
    "        \n",
    "        x=random.normal(size=5)\n",
    "        x=x/sum(x)\n",
    "        ai,bi=portfolio(r_m,c_m,x)\n",
    "        \n",
    "        if ai<xlimit:\n",
    "            a.append(ai)\n",
    "            b.append(bi)\n",
    "    return a,b"
   ]
  },
  {
   "cell_type": "markdown",
   "metadata": {},
   "source": [
    "# Problem 1. load data"
   ]
  },
  {
   "cell_type": "code",
   "execution_count": 2,
   "metadata": {},
   "outputs": [
    {
     "name": "stdout",
     "output_type": "stream",
     "text": [
      "5 stocks are\n",
      "['F', 'FB', 'GOOGL', 'AAPL', 'MCD']\n"
     ]
    }
   ],
   "source": [
    "csvfilename=\"stockData2.csv\"\n",
    "\n",
    "N,stocknamelist,r_m,c_m ,x_min, [A,B,C,D]=readfile(csvfilename)\n",
    "\n",
    "print(\"5 stocks are\")\n",
    "print(stocknamelist)"
   ]
  },
  {
   "cell_type": "markdown",
   "metadata": {},
   "source": [
    "## a. find A,B,C,D value"
   ]
  },
  {
   "cell_type": "code",
   "execution_count": 3,
   "metadata": {},
   "outputs": [
    {
     "data": {
      "text/plain": [
       "(9.8556816959589462,\n",
       " 0.29628702782379446,\n",
       " 832.81323740234609,\n",
       " 149.61729715019305)"
      ]
     },
     "execution_count": 3,
     "metadata": {},
     "output_type": "execute_result"
    }
   ],
   "source": [
    "A,B,C,D"
   ]
  },
  {
   "cell_type": "markdown",
   "metadata": {},
   "source": [
    "## b. Choose Rf=0.005"
   ]
  },
  {
   "cell_type": "code",
   "execution_count": 4,
   "metadata": {},
   "outputs": [
    {
     "name": "stdout",
     "output_type": "stream",
     "text": [
      "The tangency point: (risk, return)\n",
      "(0.08213729374335127, 0.043398683371303315)\n"
     ]
    }
   ],
   "source": [
    "x1=riskless(r_m,c_m,0.005)\n",
    "print(\"The tangency point: (risk, return)\")\n",
    "print(portfolio(r_m,c_m,x1))"
   ]
  },
  {
   "cell_type": "markdown",
   "metadata": {},
   "source": [
    "## c.  Create the graph"
   ]
  },
  {
   "cell_type": "code",
   "execution_count": 5,
   "metadata": {},
   "outputs": [
    {
     "name": "stderr",
     "output_type": "stream",
     "text": [
      "/opt/conda/lib/python3.6/site-packages/ipykernel_launcher.py:78: RuntimeWarning: invalid value encountered in sqrt\n",
      "/opt/conda/lib/python3.6/site-packages/ipykernel_launcher.py:79: RuntimeWarning: invalid value encountered in sqrt\n"
     ]
    },
    {
     "data": {
      "image/png": "[encoded data removed]",
      "text/plain": [
       "<Figure size 432x288 with 1 Axes>"
      ]
     },
     "metadata": {
      "needs_background": "light"
     },
     "output_type": "display_data"
    }
   ],
   "source": [
    "q_d(stocknamelist,r_m,c_m,A,B,C,D,0.005)"
   ]
  },
  {
   "cell_type": "code",
   "execution_count": null,
   "metadata": {},
   "outputs": [],
   "source": []
  },
  {
   "cell_type": "code",
   "execution_count": null,
   "metadata": {},
   "outputs": [],
   "source": []
  },
  {
   "cell_type": "code",
   "execution_count": null,
   "metadata": {},
   "outputs": [],
   "source": []
  },
  {
   "cell_type": "markdown",
   "metadata": {},
   "source": [
    "# Problem 2. load data"
   ]
  },
  {
   "cell_type": "code",
   "execution_count": 6,
   "metadata": {},
   "outputs": [],
   "source": [
    "r_m=np.array([0.005174, 0.010617 ,0.016947 ,0.010846])\n",
    "c_m=np.array([\n",
    "[ 0.010025, 0.000000, 0.000000, 0.000000 ]\n",
    ",[ 0.000000,0.002123 ,0.000000 ,0.000000 ]\n",
    ",[ 0.000000, 0.000000, 0.005775, 0.000000 ]\n",
    ",[ 0.000000, 0.000000 ,0.000000 ,0.001217 ] ]\n",
    ")\n",
    "r_m=r_m[0:3]\n",
    "c_m=c_m[0:3,0:3]\n",
    "\n",
    "stocknamelist=[\"C\", \"XOM\", \"AAPL\"]"
   ]
  },
  {
   "cell_type": "markdown",
   "metadata": {},
   "source": [
    "## a. Compute the composition of the minimum risk portfolio"
   ]
  },
  {
   "cell_type": "code",
   "execution_count": 7,
   "metadata": {},
   "outputs": [
    {
     "name": "stdout",
     "output_type": "stream",
     "text": [
      "Compute the composition of the minimum risk portfolio:\n",
      "[ 0.13408381  0.63315599  0.2327602 ]\n"
     ]
    }
   ],
   "source": [
    "x0=minimumRiskPortfolio(c_m)\n",
    "print(\"Compute the composition of the minimum risk portfolio:\")\n",
    "print(x0)"
   ]
  },
  {
   "cell_type": "code",
   "execution_count": 8,
   "metadata": {},
   "outputs": [
    {
     "name": "stdout",
     "output_type": "stream",
     "text": [
      "Minimum risk portfolio: (risk, return)\n",
      "(0.036663199094584188, 0.011360553917131075)\n"
     ]
    }
   ],
   "source": [
    "print(\"Minimum risk portfolio: (risk, return)\")\n",
    "print(portfolio(r_m,c_m,x0))"
   ]
  },
  {
   "cell_type": "markdown",
   "metadata": {},
   "source": [
    "## b. point of tangency Assume Rf = 0.001"
   ]
  },
  {
   "cell_type": "code",
   "execution_count": 9,
   "metadata": {},
   "outputs": [
    {
     "name": "stdout",
     "output_type": "stream",
     "text": [
      "The tangency point: (risk, return)\n",
      "(0.038778898701925441, 0.012590794423782737)\n"
     ]
    }
   ],
   "source": [
    "x1=riskless(r_m,c_m,0.001)\n",
    "print(\"The tangency point: (risk, return)\")\n",
    "print(portfolio(r_m,c_m,x1))"
   ]
  },
  {
   "cell_type": "markdown",
   "metadata": {},
   "source": [
    "## summary plot of this problem"
   ]
  },
  {
   "cell_type": "code",
   "execution_count": 10,
   "metadata": {},
   "outputs": [
    {
     "name": "stderr",
     "output_type": "stream",
     "text": [
      "/opt/conda/lib/python3.6/site-packages/ipykernel_launcher.py:120: RuntimeWarning: invalid value encountered in sqrt\n",
      "/opt/conda/lib/python3.6/site-packages/ipykernel_launcher.py:121: RuntimeWarning: invalid value encountered in sqrt\n"
     ]
    },
    {
     "data": {
      "image/png": "[encoded data removed]",
      "text/plain": [
       "<Figure size 432x288 with 1 Axes>"
      ]
     },
     "metadata": {
      "needs_background": "light"
     },
     "output_type": "display_data"
    }
   ],
   "source": [
    "q_c(stocknamelist,r_m,c_m,0.001,2.5)"
   ]
  },
  {
   "cell_type": "code",
   "execution_count": null,
   "metadata": {},
   "outputs": [],
   "source": []
  },
  {
   "cell_type": "code",
   "execution_count": null,
   "metadata": {},
   "outputs": [],
   "source": []
  },
  {
   "cell_type": "markdown",
   "metadata": {},
   "source": [
    "# Problem 3. \n",
    "The goal here is to find minimize risk square $ \\vec{x}^T \\Omega \\vec{x} $ subjec to constraint $ \\vec{1}^T \\vec{x} =1 $"
   ]
  },
  {
   "cell_type": "code",
   "execution_count": null,
   "metadata": {},
   "outputs": [],
   "source": []
  },
  {
   "cell_type": "code",
   "execution_count": null,
   "metadata": {},
   "outputs": [],
   "source": []
  },
  {
   "cell_type": "code",
   "execution_count": null,
   "metadata": {},
   "outputs": [],
   "source": []
  },
  {
   "cell_type": "code",
   "execution_count": null,
   "metadata": {},
   "outputs": [],
   "source": []
  },
  {
   "cell_type": "code",
   "execution_count": null,
   "metadata": {},
   "outputs": [],
   "source": []
  }
 ],
 "metadata": {
  "kernelspec": {
   "display_name": "Python 3",
   "language": "python",
   "name": "python3"
  },
  "language_info": {
   "codemirror_mode": {
    "name": "ipython",
    "version": 3
   },
   "file_extension": ".py",
   "mimetype": "text/x-python",
   "name": "python",
   "nbconvert_exporter": "python",
   "pygments_lexer": "ipython3",
   "version": "3.6.7"
  }
 },
 "nbformat": 4,
 "nbformat_minor": 2
}
